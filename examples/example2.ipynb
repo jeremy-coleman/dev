{
 "cells": [
  {
   "cell_type": "markdown",
   "metadata": {},
   "source": [
    "# User defined functions & arrow functions\n",
    "- block of code designed to perform a particular task\n",
    "- function needs to be first defined and then be invoked/called to execute it\n",
    "- used to break large program/problem into smaller sub-programs that can be written, updated and tested independently\n",
    "- aids in code reuse\n",
    "\n",
    "Syntax:\n",
    "\n",
    "    function name(parameter1, para2...) {\n",
    "\n",
    "    }\n",
    "\n",
    "- function name follows the same rules as naming variable names\n",
    "- idea of function is burrowed from algebra, e.g., <br />\n",
    "    y = f(x) = 2x+3 - x is unknown, given x find y <br />\n",
    "    f(3) = 2*3+3 = 9 <br />\n",
    "    f(10) = 2*10+3 = 23 </br>"
   ]
  },
  {
   "cell_type": "code",
   "execution_count": null,
   "metadata": {},
   "outputs": [],
   "source": [
    "// define a hello world function\n",
    "function sayHello() {\n",
    "    console.log('Hello World')\n",
    "}"
   ]
  },
  {
   "cell_type": "code",
   "execution_count": null,
   "metadata": {},
   "outputs": [],
   "source": [
    "// call sayHello function\n",
    "sayHello()"
   ]
  },
  {
   "cell_type": "code",
   "execution_count": null,
   "metadata": {},
   "outputs": [],
   "source": [
    "// define a function that returns product of two numbers\n",
    "function product(arg1, arg2) {\n",
    "    return arg1 * arg2\n",
    "}"
   ]
  },
  {
   "cell_type": "code",
   "execution_count": null,
   "metadata": {},
   "outputs": [],
   "source": [
    "// invoke or call the function by its name\n",
    "var ans = product(10, 20)\n",
    "console.log(ans)"
   ]
  },
  {
   "cell_type": "code",
   "execution_count": null,
   "metadata": {},
   "outputs": [],
   "source": [
    "// define a function that converts fahrenheit degree into celcius\n",
    "function toCelsius(fahrenheit) {\n",
    "    var celsius = (5/9) * (fahrenheit-32); // celsius is local variable\n",
    "    return celsius;\n",
    "}\n"
   ]
  },
  {
   "cell_type": "code",
   "execution_count": null,
   "metadata": {},
   "outputs": [],
   "source": [
    "var celsius = toCelsius(212)\n",
    "console.log(218, 'deg. fah =', celsius, 'deg. c')"
   ]
  },
  {
   "cell_type": "markdown",
   "metadata": {},
   "source": [
    "## Variable scopes, var and let keywords\n",
    "- variables defined with var keyword have Global Scope and Function/Local Scope base on where they're declared\n",
    "\n",
    " - variables declared Globally (outside any function) have Global Scope\n",
    " - variables declared inside functions with var keyword have local scope\n",
    "- variables declared inside functions with OUT var keyword have global scope\n",
    "- redclaring a let variable with let, in the same scope, or in the same block, is not allowed"
   ]
  },
  {
   "cell_type": "code",
   "execution_count": null,
   "metadata": {},
   "outputs": [],
   "source": [
    "var name = \"John Doe\"; // global variable\n",
    "// some code here \n",
    "// code here can use name\n",
    "console.log('Before function body, name=', name);\n",
    "function someFunction() {\n",
    "    // code here can use name\n",
    "    // var name = 'Jake Smith'; // local variable name\n",
    "    name1 = 'Michael Jordan';\n",
    "    var age = 21; // local variable\n",
    "    console.log('inside someFunction name=', name);\n",
    "    console.log('inside someFunction age=', age);\n",
    "    if (age >= 21) { // block\n",
    "        var x = 10; // local variable\n",
    "        var x = 100; // alowed\n",
    "        let y = 20; // block level scope\n",
    "        //let y = 30; // not allowed\n",
    "    }\n",
    "    console.log('local scope x = ', x);\n",
    "    //console.log('y= ', y); // not allwed y has block scope like in C++\n",
    "}\n",
    "someFunction();\n",
    "console.log('name1 = ', name1);\n",
    "//console.log('age outside: ', age);\n",
    "console.log('Bye', name);"
   ]
  },
  {
   "cell_type": "markdown",
   "metadata": {},
   "source": [
    "## Hoisting\n",
    "- variables declared with var are hoisted to the top\n",
    "- initialized variables are not hoisted\n",
    "- variables declared with let are not hoisted"
   ]
  },
  {
   "cell_type": "code",
   "execution_count": null,
   "metadata": {},
   "outputs": [],
   "source": [
    "player = 'C Ronaldo';\n",
    "console.log('Hello, ', player);\n",
    "var player;\n",
    "console.log('Hello again, ', player);"
   ]
  },
  {
   "cell_type": "code",
   "execution_count": null,
   "metadata": {},
   "outputs": [],
   "source": [
    "console.log('Hello, ', player1)\n",
    "var player1 = 'Lionel Messi'; // initialized variables are not hoisted"
   ]
  },
  {
   "cell_type": "code",
   "execution_count": null,
   "metadata": {},
   "outputs": [],
   "source": [
    "car = 'Tesla';\n",
    "console.log('Beautiful, ', car);\n",
    "let car;"
   ]
  },
  {
   "cell_type": "markdown",
   "metadata": {},
   "source": [
    "## Arrow Functions\n",
    "- also called fat arrow functions, burrowed from CoffeScript\n",
    "- concise syntax for writing function expressions\n",
    "- utilize new token => that looks like fat arrow\n",
    "- also called anonymous functions or lambda functions that are found in other languages such as C++, Python, etc.\n",
    "- no function keyword is required and no return and curley braces, etc.\n",
    "- Syntax:\n",
    "    \n",
    "    (arg1, arg2, argN) => expression"
   ]
  },
  {
   "cell_type": "code",
   "execution_count": null,
   "metadata": {},
   "outputs": [],
   "source": [
    "// ES5 notation\n",
    "var product1 = function(x, y) {\n",
    "    return x*y;\n",
    "}\n",
    "console.log(product1(10, 20));"
   ]
  },
  {
   "cell_type": "code",
   "execution_count": null,
   "metadata": {},
   "outputs": [],
   "source": [
    "typeof(product1);"
   ]
  },
  {
   "cell_type": "code",
   "execution_count": null,
   "metadata": {},
   "outputs": [],
   "source": [
    "// ES6 notation\n",
    "var product2 = (x, y) => x * y; // returns product of x and y"
   ]
  },
  {
   "cell_type": "code",
   "execution_count": null,
   "metadata": {},
   "outputs": [],
   "source": [
    "console.log(product2(10, 20));"
   ]
  },
  {
   "cell_type": "markdown",
   "metadata": {},
   "source": [
    "### no parameter syntax"
   ]
  },
  {
   "cell_type": "code",
   "execution_count": null,
   "metadata": {},
   "outputs": [],
   "source": [
    "// no parameters ES5 syntax\n",
    "var sayHello = function() {\n",
    "    console.log('Hello World');\n",
    "}"
   ]
  },
  {
   "cell_type": "code",
   "execution_count": null,
   "metadata": {},
   "outputs": [],
   "source": [
    "sayHello()"
   ]
  },
  {
   "cell_type": "code",
   "execution_count": null,
   "metadata": {},
   "outputs": [],
   "source": [
    "typeof(sayHello)"
   ]
  },
  {
   "cell_type": "code",
   "execution_count": null,
   "metadata": {},
   "outputs": [],
   "source": [
    "// ES6 syntax\n",
    "var sayHello1 = () => console.log('Hello World');"
   ]
  },
  {
   "cell_type": "code",
   "execution_count": null,
   "metadata": {},
   "outputs": [],
   "source": [
    "sayHello1()"
   ]
  },
  {
   "cell_type": "markdown",
   "metadata": {},
   "source": [
    "### one parameter syntax"
   ]
  },
  {
   "cell_type": "code",
   "execution_count": null,
   "metadata": {},
   "outputs": [],
   "source": [
    "// ES5\n",
    "var val = 'hello world';\n",
    "const upper = strArg => strArg.toUpperCase();"
   ]
  },
  {
   "cell_type": "code",
   "execution_count": null,
   "metadata": {},
   "outputs": [],
   "source": [
    "valUpper = upper(val);"
   ]
  },
  {
   "cell_type": "code",
   "execution_count": null,
   "metadata": {},
   "outputs": [],
   "source": [
    "console.log(valUpper);"
   ]
  },
  {
   "cell_type": "code",
   "execution_count": null,
   "metadata": {},
   "outputs": [],
   "source": []
  }
 ],
 "metadata": {
  "kernelspec": {
   "display_name": "Javascript (Node.js)",
   "language": "javascript",
   "name": "javascript"
  },
  "language_info": {
   "file_extension": ".js",
   "mimetype": "application/javascript",
   "name": "javascript",
   "version": "10.10.0"
  }
 },
 "nbformat": 4,
 "nbformat_minor": 2
}